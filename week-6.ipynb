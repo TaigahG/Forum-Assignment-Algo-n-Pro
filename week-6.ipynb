{
 "cells": [
  {
   "cell_type": "code",
   "execution_count": 1,
   "metadata": {},
   "outputs": [
    {
     "name": "stdout",
     "output_type": "stream",
     "text": [
      "{'gold': 550, 'pouch': ['flint', 'twine', 'gemstone'], 'backpack': ['bedroll', 'bread loaf', 'xylophone'], 'pocket': ['seashell', 'strange berry', 'int']}\n"
     ]
    }
   ],
   "source": [
    "inventory = {\n",
    " 'gold' : 500,\n",
    " 'pouch' : ['flint', 'twine', 'gemstone'],\n",
    " 'backpack' : ['xylophone','dagger', 'bedroll','bread loaf'] \n",
    " }\n",
    "inventory['pocket'] = [ 'seashell', 'strange berry', 'int']\n",
    "inventory['backpack'].sort()\n",
    "inventory['backpack'].remove('dagger')\n",
    "inventory['gold']+=50\n",
    "print(inventory)"
   ]
  },
  {
   "cell_type": "code",
   "execution_count": 2,
   "metadata": {},
   "outputs": [
    {
     "name": "stdout",
     "output_type": "stream",
     "text": [
      "banana\n",
      "price: 4\n",
      "stock: 6\n",
      "apple\n",
      "price: 2\n",
      "stock: 0\n",
      "orange\n",
      "price: 1.5\n",
      "stock: 32\n",
      "pear\n",
      "price: 3\n",
      "stock: 15\n",
      "117.0\n"
     ]
    }
   ],
   "source": [
    "prices = {\n",
    "    \"banana\": 4,\n",
    "    \"apple\": 2,\n",
    "    \"orange\": 1.5,\n",
    "    \"pear\": 3\n",
    "}\n",
    "stock = {\n",
    "    \"banana\": 6,\n",
    "    \"apple\": 0,\n",
    "    \"orange\": 32,\n",
    "    \"pear\": 15\n",
    "}\n",
    "total = 0\n",
    "for i in prices:\n",
    "    print (i)\n",
    "    print(\"price: %s\"% prices[i])\n",
    "    print(\"stock: %s\"% stock[i])\n",
    "\n",
    "for i in prices:\n",
    "    total += prices[i]*stock[i] \n",
    "print(total)"
   ]
  },
  {
   "cell_type": "code",
   "execution_count": 3,
   "metadata": {},
   "outputs": [
    {
     "name": "stdout",
     "output_type": "stream",
     "text": [
      "8\n"
     ]
    }
   ],
   "source": [
    "def compute_bill(food):\n",
    "    total  = 0\n",
    "    for i in food:\n",
    "        if stock[i]>0:\n",
    "            stock[i]-=1\n",
    "            total+=prices[i]\n",
    "    return total\n",
    "\n",
    "prices = {\n",
    "    \"banana\": 4,\n",
    "    \"apple\": 2,\n",
    "    \"orange\": 1.5,\n",
    "    \"pear\": 3\n",
    "}\n",
    "stock = {\n",
    "    \"banana\": 6,\n",
    "    \"apple\": 0,\n",
    "    \"orange\": 32,\n",
    "    \"pear\": 15\n",
    "}\n",
    "chck = True\n",
    "food = []\n",
    "while chck == True:\n",
    "    x = int(input(\"num of item: \"))\n",
    "    for i in range(0,x):\n",
    "        y = input(\"food: \")\n",
    "        food.append(y)\n",
    "    print(compute_bill(food))\n",
    "    j = input(\"want to buy more? (y/n) \")\n",
    "    if j == 'n':\n",
    "        chck = False\n",
    "        break\n",
    "    \n",
    "\n"
   ]
  },
  {
   "cell_type": "code",
   "execution_count": 4,
   "metadata": {},
   "outputs": [
    {
     "name": "stdout",
     "output_type": "stream",
     "text": [
      "Eren\n",
      "[90.0, 97.0, 75.0, 92.0]\n",
      "[88.0, 40.0, 94.0]\n",
      "[75.0, 90.0]\n",
      "Mikasa\n",
      "[100.0, 92.0, 98.0, 100.0]\n",
      "[82.0, 83.0, 91.0]\n",
      "[89.0, 97.0]\n",
      "Armin\n",
      "[0.0, 87.0, 75.0, 22.0]\n",
      "[0.0, 75.0, 78.0]\n",
      "[100.0, 100.0]\n",
      "B\n",
      "83.86666666666666\n",
      "B\n"
     ]
    }
   ],
   "source": [
    "eren = {\n",
    "    \"name\": \"Eren\",\n",
    "    \"homework\": [90.0, 97.0, 75.0, 92.0],\n",
    "    \"quizzes\": [88.0, 40.0, 94.0],\n",
    "    \"tests\": [75.0, 90.0]\n",
    "}\n",
    "mikasa = {\n",
    "    \"name\": \"Mikasa\",\n",
    "    \"homework\": [100.0, 92.0, 98.0, 100.0],\n",
    "    \"quizzes\": [82.0, 83.0, 91.0],\n",
    "    \"tests\": [89.0, 97.0]\n",
    "}\n",
    "armin = {\n",
    "    \"name\": \"Armin\",\n",
    "    \"homework\": [0.0, 87.0, 75.0, 22.0],\n",
    "    \"quizzes\": [0.0, 75.0, 78.0],\n",
    "    \"tests\": [100.0, 100.0]\n",
    "}\n",
    "\n",
    "\n",
    "students = [eren,mikasa,armin]\n",
    "\n",
    "for i in students:\n",
    "    print (i[\"name\"])\n",
    "    print (i[\"homework\"])\n",
    "    print (i[\"quizzes\"])\n",
    "    print (i[\"tests\"])\n",
    "\n",
    "def average(numbers):\n",
    "    total = sum(numbers)\n",
    "    total = float(total)\n",
    "    result = total/ (len(numbers))\n",
    "    return result\n",
    "\n",
    "def get_average(student):\n",
    "    hw = average(student[\"homework\"])\n",
    "    quizzes = average(student[\"quizzes\"])\n",
    "    tests = average(student[\"tests\"])\n",
    "    final = 0.1*hw +0.3*quizzes + 0.6*tests\n",
    "    return final\n",
    "\n",
    "def get_letter_grade(score):\n",
    "    if score >= 90:\n",
    "        return \"A\"\n",
    "    elif score >=80:\n",
    "        return \"B\"\n",
    "    elif score >=70:\n",
    "        return \"C\"\n",
    "    elif score >=60:\n",
    "        return \"D\"\n",
    "    else:\n",
    "        return \"F\"\n",
    "print (get_letter_grade(get_average(eren)))\n",
    "def get_class_average(students):\n",
    "      results = []\n",
    "      for i in students:\n",
    "          x = get_average(i)\n",
    "          results.append(x)\n",
    "\n",
    "      return average(results)\n",
    "print (get_class_average(students))\n",
    "print (get_letter_grade(get_class_average(students)))\n"
   ]
  }
 ],
 "metadata": {
  "kernelspec": {
   "display_name": "Python 3.9.6 64-bit",
   "language": "python",
   "name": "python3"
  },
  "language_info": {
   "codemirror_mode": {
    "name": "ipython",
    "version": 3
   },
   "file_extension": ".py",
   "mimetype": "text/x-python",
   "name": "python",
   "nbconvert_exporter": "python",
   "pygments_lexer": "ipython3",
   "version": "3.9.6"
  },
  "orig_nbformat": 4,
  "vscode": {
   "interpreter": {
    "hash": "31f2aee4e71d21fbe5cf8b01ff0e069b9275f58929596ceb00d14d90e3e16cd6"
   }
  }
 },
 "nbformat": 4,
 "nbformat_minor": 2
}
