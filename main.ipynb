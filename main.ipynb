{
 "cells": [
  {
   "cell_type": "code",
   "execution_count": null,
   "metadata": {},
   "outputs": [],
   "source": [
    "r = int(input(\"enter radius: \"))\n",
    "phi = 3.14\n",
    "rslt = phi*(r**2)\n",
    "print(rslt)"
   ]
  },
  {
   "cell_type": "code",
   "execution_count": null,
   "metadata": {},
   "outputs": [],
   "source": [
    "#2\n",
    "fName = input(\"Your first name: \")\n",
    "sName = input(\"Your last name: \")\n",
    "\n",
    "x = []\n",
    "rName = ' '\n",
    "a = x.append(fName)\n",
    "b = x.append(sName)\n",
    "\n",
    "print(\"Your name in reverse is: \" + ' '.join(x[::-1]))\n"
   ]
  },
  {
   "cell_type": "code",
   "execution_count": 67,
   "metadata": {},
   "outputs": [
    {
     "name": "stdout",
     "output_type": "stream",
     "text": [
      "Red\n",
      "Black\n"
     ]
    }
   ],
   "source": [
    "\n",
    "# 3\n",
    "colorlst = [\"Red\",\"Green\",\"White\",\"Black\"]\n",
    "print('\\n'.join(colorlst[::len(colorlst)-1]))\n"
   ]
  },
  {
   "cell_type": "code",
   "execution_count": null,
   "metadata": {},
   "outputs": [],
   "source": [
    "#4\n",
    "\n",
    "num = int(input(\"enter num: \"))\n",
    "\n",
    "n1 = int(\"%s\" % num)\n",
    "n2 = int(\"%s%s\" % (num,num))\n",
    "n3 = int(\"%s%s%s\" % (num,num,num))\n",
    "print(n1+n2+n3)"
   ]
  },
  {
   "cell_type": "code",
   "execution_count": null,
   "metadata": {},
   "outputs": [],
   "source": [
    "#5\n",
    "\n",
    "r = 6\n",
    "phi = 3.14\n",
    "v = float((4*(r**3)*phi)/3)\n",
    "print(\"{:.2f}\".format(v))"
   ]
  },
  {
   "cell_type": "code",
   "execution_count": null,
   "metadata": {},
   "outputs": [
    {
     "name": "stdout",
     "output_type": "stream",
     "text": [
      "10\n"
     ]
    }
   ],
   "source": [
    "#6\n",
    "n1 = 17\n",
    "n2 = int(input(\"enter num: \"))\n",
    "\n",
    "if n2 <= n1:\n",
    "    print(n2-n1)\n",
    "else:\n",
    "    print((n2-n1)*2)"
   ]
  },
  {
   "cell_type": "code",
   "execution_count": null,
   "metadata": {},
   "outputs": [
    {
     "name": "stdout",
     "output_type": "stream",
     "text": [
      "6\n"
     ]
    }
   ],
   "source": [
    "#7\n",
    "n1 = int(input(\"num1: \"))\n",
    "n2 = int(input(\"num2: \"))\n",
    "n3 = int(input(\"num3: \"))\n",
    "x = n1+n2+n3\n",
    "if n1 == n2 == n3:\n",
    "    print(x*3)\n",
    "else:\n",
    "    print(x)"
   ]
  },
  {
   "cell_type": "code",
   "execution_count": null,
   "metadata": {},
   "outputs": [
    {
     "name": "stdout",
     "output_type": "stream",
     "text": [
      "The number 5 is odd\n"
     ]
    }
   ],
   "source": [
    "#8\n",
    "x = int(input(\"enter a number: \"))\n",
    "if x%2 == 0:\n",
    "    print(f\"The number {x} is even\")\n",
    "else:\n",
    "    print(f\"The number {x} is odd\")\n"
   ]
  },
  {
   "cell_type": "code",
   "execution_count": null,
   "metadata": {},
   "outputs": [
    {
     "name": "stdout",
     "output_type": "stream",
     "text": [
      "The letter A is vowel\n"
     ]
    }
   ],
   "source": [
    "#9\n",
    "x = ['A','I','U','E','O']\n",
    "y = input(\"enter a letter:\").upper()\n",
    "\n",
    "if y in x:\n",
    "    print(f\"The letter {y} is vowel\")\n",
    "else:\n",
    "    print(f\"The letter {y} is not vowel\")"
   ]
  },
  {
   "cell_type": "code",
   "execution_count": null,
   "metadata": {},
   "outputs": [
    {
     "name": "stdout",
     "output_type": "stream",
     "text": [
      "True\n"
     ]
    }
   ],
   "source": [
    "#10\n",
    "x = [1,3,5,7,9]\n",
    "y = int(input(\"enter num: \"))\n",
    "for i in x:\n",
    "    if y == i:\n",
    "        print(True)\n",
    "        break\n",
    "    else:\n",
    "        print(False)\n",
    "        break"
   ]
  },
  {
   "cell_type": "code",
   "execution_count": null,
   "metadata": {},
   "outputs": [
    {
     "name": "stdout",
     "output_type": "stream",
     "text": [
      "+++++\n",
      "+++\n",
      "+\n",
      "++++++\n"
     ]
    }
   ],
   "source": [
    "#11\n",
    "n = [5,3,1,6]\n",
    "for i in n:\n",
    "    output = ''\n",
    "    while i>0:\n",
    "        output+='+'\n",
    "        i-=1\n",
    "    print(output)\n"
   ]
  },
  {
   "cell_type": "code",
   "execution_count": 65,
   "metadata": {},
   "outputs": [
    {
     "name": "stdout",
     "output_type": "stream",
     "text": [
      "[386, 462, 418, 344, 236, 566, 978, 328, 162, 758, 918, 412, 566, 826, 248, 866, 950, 626, 104, 58, 512, 24, 892, 894, 742, 958]\n"
     ]
    }
   ],
   "source": [
    "#12\n",
    "numbers = [\n",
    "386, 462, 47, 418, 907, 344, 236, 375, 823, 566, 597, 978, 328, 615, 953, 345, 399, 162, 758, 219, 918, 237, 412, 566, 826, 248, 866, 950, 626, 949, 687, 217, 815, 67, 104, 58, 512, 24, 892, 894, 767, 553, 81, 379, 843, 831, 445, 742, 717, 958,743, 527 ]\n",
    "rslt = []\n",
    "for i in numbers:\n",
    "    if i%2==0:\n",
    "        rslt.append(i)\n",
    "print(rslt)"
   ]
  },
  {
   "cell_type": "code",
   "execution_count": null,
   "metadata": {},
   "outputs": [
    {
     "name": "stdout",
     "output_type": "stream",
     "text": [
      "The area of triangle is 12.5\n"
     ]
    }
   ],
   "source": [
    "#13\n",
    "h = int(input(\"enter height: \"))\n",
    "b = int(input(\"enter base: \"))\n",
    "a = h*b/2\n",
    "print(f\"The area of triangle is {a}\")"
   ]
  },
  {
   "cell_type": "code",
   "execution_count": null,
   "metadata": {},
   "outputs": [
    {
     "name": "stdout",
     "output_type": "stream",
     "text": [
      "204\n"
     ]
    }
   ],
   "source": [
    "#14\n",
    "x = 3\n",
    "y = 4\n",
    "z = int(x*y)\n",
    "for i in range(1, z+1):\n",
    "    if i%x == 0 and i%y == 0:\n",
    "        print(i)"
   ]
  },
  {
   "cell_type": "code",
   "execution_count": null,
   "metadata": {},
   "outputs": [
    {
     "name": "stdout",
     "output_type": "stream",
     "text": [
      "6\n"
     ]
    }
   ],
   "source": [
    "#15\n",
    "\n",
    "n1 = int(input(\"enter num: \"))\n",
    "n2 = int(input(\"enter num: \"))\n",
    "n3 = int(input(\"enter num: \"))\n",
    "\n",
    "if n1 == n2 or n2 == n3 or n3 == n1:\n",
    "    print(0)\n",
    "else:\n",
    "    print(n1+n2+n3)"
   ]
  },
  {
   "cell_type": "code",
   "execution_count": null,
   "metadata": {},
   "outputs": [
    {
     "name": "stdout",
     "output_type": "stream",
     "text": [
      "49\n"
     ]
    }
   ],
   "source": [
    "#16\n",
    "x = 4\n",
    "y = 3\n",
    "print((x+y)**2)"
   ]
  },
  {
   "cell_type": "code",
   "execution_count": null,
   "metadata": {},
   "outputs": [
    {
     "name": "stdout",
     "output_type": "stream",
     "text": [
      "12722.79\n"
     ]
    }
   ],
   "source": [
    "#17\n",
    "a = 10000\n",
    "i = 3.5\n",
    "y = 7\n",
    "\n",
    "rslt = a*((1+(i/100))**y)\n",
    "print(round(rslt,2))"
   ]
  },
  {
   "cell_type": "code",
   "execution_count": 47,
   "metadata": {},
   "outputs": [
    {
     "name": "stdout",
     "output_type": "stream",
     "text": [
      "7.0710678118654755\n"
     ]
    }
   ],
   "source": [
    "#18\n",
    "import math\n",
    "x = [6, 2]\n",
    "y = [5, 9]\n",
    "d = math.sqrt(((x[0]-y[0])**2) + ((x[1]-y[1])**2))\n",
    "print(d)"
   ]
  },
  {
   "cell_type": "code",
   "execution_count": 50,
   "metadata": {},
   "outputs": [
    {
     "name": "stdout",
     "output_type": "stream",
     "text": [
      "36.0\n"
     ]
    }
   ],
   "source": [
    "#19\n",
    "n = int(input(\"enter num: \"))\n",
    "rslt = n*(n+1)/2\n",
    "print(rslt)"
   ]
  },
  {
   "cell_type": "code",
   "execution_count": 56,
   "metadata": {},
   "outputs": [
    {
     "name": "stdout",
     "output_type": "stream",
     "text": [
      "157.48cm\n"
     ]
    }
   ],
   "source": [
    "#20\n",
    "x = int(input(\"feet: \"))\n",
    "y = int(input(\"inch: \"))\n",
    "sm1 = float(x) * 12\n",
    "sm2 = float(sm1) + y\n",
    "sm3 = float(sm2)*2.54\n",
    "print(f\"{sm3}cm\")"
   ]
  },
  {
   "cell_type": "code",
   "execution_count": 57,
   "metadata": {},
   "outputs": [
    {
     "name": "stdout",
     "output_type": "stream",
     "text": [
      "5.0\n"
     ]
    }
   ],
   "source": [
    "#21\n",
    "a = 3\n",
    "b = 4\n",
    "c = math.sqrt((a**2)+(b**2))\n",
    "print(c)"
   ]
  },
  {
   "cell_type": "code",
   "execution_count": 60,
   "metadata": {},
   "outputs": [
    {
     "name": "stdout",
     "output_type": "stream",
     "text": [
      "23.39\n"
     ]
    }
   ],
   "source": [
    "#22\n",
    "h = int(input(\"enter ur height in cm: \"))\n",
    "w = int(input(\"enter ur weight in kg: \"))\n",
    "bmi = w/(h/100)**2\n",
    "print(round(bmi,2))"
   ]
  },
  {
   "cell_type": "code",
   "execution_count": 64,
   "metadata": {},
   "outputs": [
    {
     "name": "stdout",
     "output_type": "stream",
     "text": [
      "(5.5, 2.5)\n"
     ]
    }
   ],
   "source": [
    "#23\n",
    "x = [5, 2]\n",
    "y = [6, 3]\n",
    "mPoint = (((x[0]+y[0])/2), ((x[1]+y[1])/2))\n",
    "print(mPoint)"
   ]
  },
  {
   "cell_type": "code",
   "execution_count": 69,
   "metadata": {},
   "outputs": [
    {
     "name": "stdout",
     "output_type": "stream",
     "text": [
      "[2002, 2009, 2016, 2023, 2037, 2044, 2051, 2058, 2072, 2079, 2086, 2093, 2107, 2114, 2121, 2128, 2142, 2149, 2156, 2163, 2177, 2184, 2191, 2198, 2212, 2219, 2226, 2233, 2247, 2254, 2261, 2268, 2282, 2289, 2296, 2303, 2317, 2324, 2331, 2338, 2352, 2359, 2366, 2373, 2387, 2394, 2401, 2408, 2422, 2429, 2436, 2443, 2457, 2464, 2471, 2478, 2492, 2499, 2506, 2513, 2527, 2534, 2541, 2548, 2562, 2569, 2576, 2583, 2597, 2604, 2611, 2618, 2632, 2639, 2646, 2653, 2667, 2674, 2681, 2688, 2702, 2709, 2716, 2723, 2737, 2744, 2751, 2758, 2772, 2779, 2786, 2793, 2807, 2814, 2821, 2828, 2842, 2849, 2856, 2863, 2877, 2884, 2891, 2898, 2912, 2919, 2926, 2933, 2947, 2954, 2961, 2968, 2982, 2989, 2996, 3003, 3017, 3024, 3031, 3038, 3052, 3059, 3066, 3073, 3087, 3094, 3101, 3108, 3122, 3129, 3136, 3143, 3157, 3164, 3171, 3178, 3192, 3199]\n"
     ]
    }
   ],
   "source": [
    "#24\n",
    "x = range(2000,3200)\n",
    "rslt = []\n",
    "for i in x:\n",
    "    if i%7==0 and i%5!=0:\n",
    "        rslt.append(i)\n",
    "print(rslt, sep = \",\")\n"
   ]
  }
 ],
 "metadata": {
  "kernelspec": {
   "display_name": "Python 3.9.6 64-bit",
   "language": "python",
   "name": "python3"
  },
  "language_info": {
   "codemirror_mode": {
    "name": "ipython",
    "version": 3
   },
   "file_extension": ".py",
   "mimetype": "text/x-python",
   "name": "python",
   "nbconvert_exporter": "python",
   "pygments_lexer": "ipython3",
   "version": "3.9.6"
  },
  "orig_nbformat": 4,
  "vscode": {
   "interpreter": {
    "hash": "31f2aee4e71d21fbe5cf8b01ff0e069b9275f58929596ceb00d14d90e3e16cd6"
   }
  }
 },
 "nbformat": 4,
 "nbformat_minor": 2
}
